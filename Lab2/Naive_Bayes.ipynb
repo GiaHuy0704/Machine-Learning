{
 "cells": [
  {
   "cell_type": "markdown",
   "id": "534317fc-8171-4d04-8578-2e72a1044c17",
   "metadata": {},
   "source": [
    "Câu 1: Phân phối Bernoulli và Multinomial"
   ]
  },
  {
   "cell_type": "markdown",
   "id": "76d3781c-fd56-42a9-b2b7-9999364c2892",
   "metadata": {},
   "source": [
    "Cho tập dữ liệu Education.csv [https://drive.google.com/file/d/1Gn6YWHXRuPbTUXY5HFxM5C_tJHuZxCka/view?usp=sharing]\n",
    "- Trong đó:\n",
    "    - Text: Chứa đoạn văn bản liên quan đến chủ đề giáo dục.\n",
    "    - Label: Chứa nhãn cảm xúc của văn bản [Tích cực (Positive)/Tiêu cực (Negative)].\n",
    "- Yêu cầu: Áp dụng thuật toán Naive Bayes (phân phối bernoulli và phân phối Multinomial) để dự đoán cảm xúc của văn bản là tích cực hay tiêu cực và so sánh kết quả của hai phân phối đó."
   ]
  },
  {
   "cell_type": "markdown",
   "id": "2ddba7d5-909f-4def-9a45-60bf83f7741c",
   "metadata": {},
   "source": [
    "Câu 2: Phân phối Gaussian"
   ]
  },
  {
   "cell_type": "markdown",
   "id": "acdf8be6-a117-4c6f-9035-4edc4190f185",
   "metadata": {},
   "source": [
    "Cho tập dữ liệu Drug.csv [https://drive.google.com/file/d/1_G8oXkLlsauQkujZzJZJwibAWu5PgBXK/view?usp=sharing]\n",
    "- Trong đó:\n",
    "  - Age: Tuổi của bệnh nhân\n",
    "  - Sex: Giới tính của bệnh nhân\n",
    "  - BP: Mức huyết áp\n",
    "  - Cholesterol: Mức cholesterol trong máu\n",
    "  - Na_to_K: Tỷ lệ Natri và Kali trong máu\n",
    "  - Drug: Loại thuốc [A/B/C/X/Y]\n",
    "- Yêu cầu: Áp dụng thuật toán Naive Bayes (phân phối Gaussian) để dự đoán kết quả loại thuốc phù hợp với bệnh nhân."
   ]
  },
  {
   "cell_type": "code",
   "execution_count": 2,
   "id": "2105ee06-30d0-45e7-a703-3535ea6fd195",
   "metadata": {},
   "outputs": [],
   "source": [
    "import pandas as pd\n",
    "from sklearn.feature_extraction.text import CountVectorizer\n",
    "from sklearn.model_selection import train_test_split\n",
    "from sklearn.naive_bayes import BernoulliNB, MultinomialNB, GaussianNB\n",
    "from sklearn.metrics import accuracy_score, classification_report\n",
    "from sklearn.preprocessing import LabelEncoder\n",
    "\n",
    "# Đọc dữ liệu Education.csv và Drug.csv từ đường dẫn \n",
    "education_df = pd.read_csv('D:/Tai luu (thanh)/baitapthu/lab2/Education.csv')\n",
    "drug_df = pd.read_csv('D:/Tai luu (thanh)/baitapthu/lab2/drug200.csv')\n"
   ]
  },
  {
   "cell_type": "code",
   "execution_count": 3,
   "id": "18d47eaa",
   "metadata": {},
   "outputs": [],
   "source": [
    "\n",
    "# Chuẩn bị dữ liệu\n",
    "X = education_df['Text']  # Đoạn văn bản\n",
    "y = education_df['Label']  # Nhãn cảm xúc"
   ]
  },
  {
   "cell_type": "markdown",
   "id": "24034aa2-86b2-488b-8746-cf43222c99bc",
   "metadata": {},
   "source": []
  },
  {
   "cell_type": "code",
   "execution_count": 4,
   "id": "69d5fc8b-7f0b-48bd-9d34-664942841b77",
   "metadata": {},
   "outputs": [],
   "source": [
    "# Chuyển đổi văn bản thành các đặc trưng dạng số (Bag of Words)\n",
    "vectorizer = CountVectorizer(binary=True)  # Sử dụng binary cho Bernoulli\n",
    "X_vectorized = vectorizer.fit_transform(X)\n",
    "\n",
    "# Chia dữ liệu thành tập huấn luyện và kiểm tra\n",
    "X_train, X_test, y_train, y_test = train_test_split(X_vectorized, y, test_size=0.3, random_state=42)\n",
    "\n",
    "# Áp dụng Bernoulli Naive Bayes\n",
    "bernoulli_nb = BernoulliNB()\n",
    "bernoulli_nb.fit(X_train, y_train)\n",
    "y_pred_bernoulli = bernoulli_nb.predict(X_test)\n"
   ]
  },
  {
   "cell_type": "code",
   "execution_count": 5,
   "id": "dbf5e565",
   "metadata": {},
   "outputs": [
    {
     "name": "stdout",
     "output_type": "stream",
     "text": [
      "Kết quả Bernoulli Naive Bayes\n",
      "Độ chính xác: 0.4375\n",
      "Báo cáo chi tiết:\n",
      "               precision    recall  f1-score   support\n",
      "\n",
      "    negative       0.36      0.67      0.47         6\n",
      "    positive       0.60      0.30      0.40        10\n",
      "\n",
      "    accuracy                           0.44        16\n",
      "   macro avg       0.48      0.48      0.44        16\n",
      "weighted avg       0.51      0.44      0.43        16\n",
      "\n"
     ]
    }
   ],
   "source": [
    "# Đánh giá kết quả Bernoulli Naive Bayes\n",
    "print(\"Kết quả Bernoulli Naive Bayes\")\n",
    "print(\"Độ chính xác:\", accuracy_score(y_test, y_pred_bernoulli))\n",
    "print(\"Báo cáo chi tiết:\\n\", classification_report(y_test, y_pred_bernoulli, zero_division=1))"
   ]
  },
  {
   "cell_type": "code",
   "execution_count": 6,
   "id": "25b27745",
   "metadata": {},
   "outputs": [],
   "source": [
    "# Áp dụng Multinomial Naive Bayes\n",
    "multinomial_nb = MultinomialNB()\n",
    "multinomial_nb.fit(X_train, y_train)\n",
    "y_pred_multinomial = multinomial_nb.predict(X_test)"
   ]
  },
  {
   "cell_type": "code",
   "execution_count": 7,
   "id": "382fdb98",
   "metadata": {},
   "outputs": [
    {
     "name": "stdout",
     "output_type": "stream",
     "text": [
      "\n",
      "Kết quả Multinomial Naive Bayes\n",
      "Độ chính xác: 0.625\n",
      "Báo cáo chi tiết:\n",
      "               precision    recall  f1-score   support\n",
      "\n",
      "    negative       0.50      0.50      0.50         6\n",
      "    positive       0.70      0.70      0.70        10\n",
      "\n",
      "    accuracy                           0.62        16\n",
      "   macro avg       0.60      0.60      0.60        16\n",
      "weighted avg       0.62      0.62      0.62        16\n",
      "\n"
     ]
    }
   ],
   "source": [
    "# Đánh giá kết quả Multinomial Naive Bayes\n",
    "print(\"\\nKết quả Multinomial Naive Bayes\")\n",
    "print(\"Độ chính xác:\", accuracy_score(y_test, y_pred_multinomial))\n",
    "print(\"Báo cáo chi tiết:\\n\", classification_report(y_test, y_pred_multinomial, zero_division=1))"
   ]
  },
  {
   "cell_type": "code",
   "execution_count": 8,
   "id": "231a09b1",
   "metadata": {},
   "outputs": [],
   "source": [
    "# Chuẩn bị dữ liệu\n",
    "X_drug = drug_df[['Age', 'Na_to_K']]  # Sử dụng các đặc trưng liên tục (Age và Na_to_K)\n",
    "y_drug = drug_df['Drug']"
   ]
  },
  {
   "cell_type": "code",
   "execution_count": 9,
   "id": "f3d88c2a",
   "metadata": {},
   "outputs": [],
   "source": [
    "# Mã hóa nhãn (Drug) thành số\n",
    "label_encoder = LabelEncoder()\n",
    "y_drug_encoded = label_encoder.fit_transform(y_drug)\n",
    "\n",
    "# Chia dữ liệu thành tập huấn luyện và kiểm tra\n",
    "X_train_drug, X_test_drug, y_train_drug, y_test_drug = train_test_split(X_drug, y_drug_encoded, test_size=0.3, random_state=42)\n",
    "\n",
    "# Áp dụng Gaussian Naive Bayes\n",
    "gaussian_nb = GaussianNB()\n",
    "gaussian_nb.fit(X_train_drug, y_train_drug)\n",
    "y_pred_gaussian = gaussian_nb.predict(X_test_drug)  "
   ]
  },
  {
   "cell_type": "code",
   "execution_count": 10,
   "id": "40218af4",
   "metadata": {},
   "outputs": [
    {
     "name": "stdout",
     "output_type": "stream",
     "text": [
      "\n",
      "Kết quả Gaussian Naive Bayes cho Drug.csv\n",
      "Độ chính xác: 0.7166666666666667\n",
      "Báo cáo chi tiết:\n",
      "               precision    recall  f1-score   support\n",
      "\n",
      "       DrugY       1.00      1.00      1.00        26\n",
      "       drugA       0.33      0.29      0.31         7\n",
      "       drugB       0.40      0.67      0.50         3\n",
      "       drugC       0.00      0.00      0.00         6\n",
      "       drugX       0.57      0.72      0.63        18\n",
      "\n",
      "    accuracy                           0.72        60\n",
      "   macro avg       0.46      0.53      0.49        60\n",
      "weighted avg       0.66      0.72      0.68        60\n",
      "\n"
     ]
    },
    {
     "name": "stderr",
     "output_type": "stream",
     "text": [
      "c:\\Users\\nhoxt\\AppData\\Local\\Programs\\Python\\Python312\\Lib\\site-packages\\sklearn\\metrics\\_classification.py:1531: UndefinedMetricWarning: Precision is ill-defined and being set to 0.0 in labels with no predicted samples. Use `zero_division` parameter to control this behavior.\n",
      "  _warn_prf(average, modifier, f\"{metric.capitalize()} is\", len(result))\n",
      "c:\\Users\\nhoxt\\AppData\\Local\\Programs\\Python\\Python312\\Lib\\site-packages\\sklearn\\metrics\\_classification.py:1531: UndefinedMetricWarning: Precision is ill-defined and being set to 0.0 in labels with no predicted samples. Use `zero_division` parameter to control this behavior.\n",
      "  _warn_prf(average, modifier, f\"{metric.capitalize()} is\", len(result))\n",
      "c:\\Users\\nhoxt\\AppData\\Local\\Programs\\Python\\Python312\\Lib\\site-packages\\sklearn\\metrics\\_classification.py:1531: UndefinedMetricWarning: Precision is ill-defined and being set to 0.0 in labels with no predicted samples. Use `zero_division` parameter to control this behavior.\n",
      "  _warn_prf(average, modifier, f\"{metric.capitalize()} is\", len(result))\n"
     ]
    }
   ],
   "source": [
    "# Đánh giá kết quả Gaussian Naive Bayes cho Drug.csv\n",
    "print(\"\\nKết quả Gaussian Naive Bayes cho Drug.csv\")\n",
    "print(\"Độ chính xác:\", accuracy_score(y_test_drug, y_pred_gaussian))\n",
    "print(\"Báo cáo chi tiết:\\n\", classification_report(y_test_drug, y_pred_gaussian, target_names=label_encoder.classes_, zero_division=1))"
   ]
  }
 ],
 "metadata": {
  "kernelspec": {
   "display_name": "Python 3",
   "language": "python",
   "name": "python3"
  },
  "language_info": {
   "codemirror_mode": {
    "name": "ipython",
    "version": 3
   },
   "file_extension": ".py",
   "mimetype": "text/x-python",
   "name": "python",
   "nbconvert_exporter": "python",
   "pygments_lexer": "ipython3",
   "version": "3.12.7"
  }
 },
 "nbformat": 4,
 "nbformat_minor": 5
}
