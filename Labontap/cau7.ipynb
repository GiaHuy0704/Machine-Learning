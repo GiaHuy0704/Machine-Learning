{
 "cells": [
  {
   "cell_type": "code",
   "execution_count": 1,
   "metadata": {
    "notebookRunGroups": {
     "groupValue": "2"
    }
   },
   "outputs": [],
   "source": [
    "import time\n",
    "from sklearn.datasets import load_digits\n",
    "from sklearn.model_selection import train_test_split\n",
    "from sklearn.svm import SVC\n",
    "from sklearn.metrics import accuracy_score\n",
    "\n"
   ]
  },
  {
   "cell_type": "code",
   "execution_count": 2,
   "metadata": {},
   "outputs": [],
   "source": [
    "# Bước 1: Tải dữ liệu và chia tập dữ liệu\n",
    "digits = load_digits()\n",
    "X = digits.data\n",
    "y = digits.target\n",
    "X_train, X_test, y_train, y_test = train_test_split(X, y, test_size=0.25, random_state=42)\n"
   ]
  },
  {
   "cell_type": "code",
   "execution_count": 3,
   "metadata": {},
   "outputs": [],
   "source": [
    "# Bước 2: Khởi tạo danh sách kernel và lưu trữ kết quả\n",
    "kernels = ['linear', 'rbf', 'poly']\n",
    "results = []\n",
    "\n",
    "for kernel in kernels:\n",
    "    # Ghi lại thời gian bắt đầu\n",
    "    start_time = time.time()\n",
    "    \n",
    "    # Khởi tạo và huấn luyện mô hình SVM với kernel hiện tại\n",
    "    svm_model = SVC(kernel=kernel)\n",
    "    svm_model.fit(X_train, y_train)\n",
    "    \n",
    "    # Tính thời gian huấn luyện\n",
    "    train_time = time.time() - start_time\n",
    "    \n",
    "    # Dự đoán và tính độ chính xác\n",
    "    y_pred = svm_model.predict(X_test)\n",
    "    accuracy = accuracy_score(y_test, y_pred)\n",
    "    \n",
    "    # Lưu kết quả\n",
    "    results.append({\n",
    "        'kernel': kernel,\n",
    "        'accuracy': accuracy,\n",
    "        'training_time': train_time\n",
    "    })\n",
    "\n"
   ]
  },
  {
   "cell_type": "code",
   "execution_count": 4,
   "metadata": {},
   "outputs": [
    {
     "name": "stdout",
     "output_type": "stream",
     "text": [
      "Kernel: linear\n",
      " - Độ chính xác: 0.9822\n",
      " - Thời gian huấn luyện: 0.0304 giây\n",
      "\n",
      "Kernel: rbf\n",
      " - Độ chính xác: 0.9867\n",
      " - Thời gian huấn luyện: 0.0407 giây\n",
      "\n",
      "Kernel: poly\n",
      " - Độ chính xác: 0.9933\n",
      " - Thời gian huấn luyện: 0.0285 giây\n",
      "\n"
     ]
    }
   ],
   "source": [
    "# In kết quả\n",
    "for result in results:\n",
    "    print(f\"Kernel: {result['kernel']}\")\n",
    "    print(f\" - Độ chính xác: {result['accuracy']:.4f}\")\n",
    "    print(f\" - Thời gian huấn luyện: {result['training_time']:.4f} giây\\n\")\n"
   ]
  }
 ],
 "metadata": {
  "kernelspec": {
   "display_name": "Python 3",
   "language": "python",
   "name": "python3"
  },
  "language_info": {
   "codemirror_mode": {
    "name": "ipython",
    "version": 3
   },
   "file_extension": ".py",
   "mimetype": "text/x-python",
   "name": "python",
   "nbconvert_exporter": "python",
   "pygments_lexer": "ipython3",
   "version": "3.11.2"
  }
 },
 "nbformat": 4,
 "nbformat_minor": 2
}
